{
 "cells": [
  {
   "cell_type": "code",
   "execution_count": 19,
   "metadata": {},
   "outputs": [],
   "source": [
    "import requests\n",
    "from bs4 import BeautifulSoup\n",
    "\n",
    "url = 'https://www.webmd.com/drugs/drugreview-94831-revlimid-oral?drugid=94831'\n",
    "headers = {'User-Agent': 'Chrome/50.0.2661.102 Safari/537.36'}\n",
    "page_no = 1\n",
    "response = requests.get(url, headers=headers)\n",
    "li1,li2,li4,sat,eou,eff,names,ages,genders,med_period,status=[],[],[],[],[],[],[],[],[],[],[]\n",
    "if response.status_code == 200:\n",
    "    for i in range(4):\n",
    "        new_url = url + \"&page=\" + str(i+1)\n",
    "        response = requests.get(new_url, headers=headers)\n",
    "        soup = BeautifulSoup(response.content, \"html.parser\")\n",
    "        details = soup.find_all(\"div\", {\"class\": \"details\"})\n",
    "        overallratings = soup.find_all(\"div\", {\"class\":\"overall-rating\"})\n",
    "        ratings = soup.find_all(\"div\", {\"class\":\"categories\"})\n",
    "        reviews = soup.find_all(\"div\", {\"class\":\"description\"})\n",
    "        for div in soup.find_all('div',class_='details'):\n",
    "            values = div.find_all('span')\n",
    "            if len(values) == 3:\n",
    "                name = values[0].text.replace('|','') \n",
    "                age = ''\n",
    "                gender = ''\n",
    "                med_p = div.contents[3][18:].strip().replace('|','') \n",
    "                reviewer = values[2].text \n",
    "            else:\n",
    "                name = values[0].text.replace('|','')  if len (values) >= 1 else ''\n",
    "                age = values[1].text.replace('|','')  if len(values) >= 2 else ''\n",
    "                gender = values[2].text.replace('|','')  if len(values) >= 3 else ''\n",
    "                med_p = div.contents[3][18:].strip().replace('|','') \n",
    "                reviewer = values[3].text if len(values) >=4 else ''\n",
    "            names.append(name)\n",
    "            ages.append(age)\n",
    "            genders.append(gender)\n",
    "            med_period.append(med_p)\n",
    "            status.append(reviewer)\n",
    "        for rt in overallratings:\n",
    "            li2.append(rt.text[-4:])\n",
    "        for rating in ratings:\n",
    "            aria_valuenow_values = [div.get('aria-valuenow') for div in rating.findAll('div', {'aria-valuenow': True})]\n",
    "            eff.append(int(aria_valuenow_values[0]))\n",
    "            eou.append(int(aria_valuenow_values[1]))\n",
    "            sat.append(int(aria_valuenow_values[2]))\n",
    "        for container in soup.find_all(\"div\", {\"class\": \"review-details\"}):\n",
    "            try:\n",
    "                value = container.find(\"div\", {\"class\": \"description\"}).text.strip()\n",
    "            except AttributeError:\n",
    "                value = \"N/A\"\n",
    "            li4.append(value)\n",
    "else:\n",
    "    print(f'Request failed with status code {response.status_code}')\n"
   ]
  },
  {
   "cell_type": "code",
   "execution_count": 21,
   "metadata": {},
   "outputs": [],
   "source": [
    "import csv\n",
    "data = list(zip(names,ages,genders,med_period,status, li2, eff,eou,sat,li4))\n",
    "with open('revlimid_drugreview.csv', 'w', newline='', encoding='utf-8') as file:\n",
    "    writer = csv.writer(file)\n",
    "    writer.writerow(['Name','Age','Gender','Medication Period','Status', 'Overall Rating', 'Effectiveness','Ease of Use','Satisfaction','Reviews'])\n",
    "\n",
    "    for row in data:\n",
    "        writer.writerow(row)\n"
   ]
  },
  {
   "cell_type": "code",
   "execution_count": null,
   "metadata": {},
   "outputs": [],
   "source": []
  }
 ],
 "metadata": {
  "kernelspec": {
   "display_name": "Python 3",
   "language": "python",
   "name": "python3"
  },
  "language_info": {
   "codemirror_mode": {
    "name": "ipython",
    "version": 3
   },
   "file_extension": ".py",
   "mimetype": "text/x-python",
   "name": "python",
   "nbconvert_exporter": "python",
   "pygments_lexer": "ipython3",
   "version": "3.7.6"
  }
 },
 "nbformat": 4,
 "nbformat_minor": 4
}
